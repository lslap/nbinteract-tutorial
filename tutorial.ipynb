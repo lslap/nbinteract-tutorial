{
 "cells": [
  {
   "cell_type": "code",
   "execution_count": 13,
   "metadata": {},
   "outputs": [
    {
     "data": {
      "application/vnd.jupyter.widget-view+json": {
       "model_id": "a66f497251c84cb186dcce4bcc1eba1b",
       "version_major": 2,
       "version_minor": 0
      },
      "text/plain": [
       "interactive(children=(Dropdown(description='Material:', options=('None', 'Li2MnO3', 'Li2IrO3', 'Li2MnSnO3'), v…"
      ]
     },
     "metadata": {},
     "output_type": "display_data"
    },
    {
     "data": {
      "application/vnd.jupyter.widget-view+json": {
       "model_id": "3f598a34364a4205a7189aba69e67db4",
       "version_major": 2,
       "version_minor": 0
      },
      "text/plain": [
       "Output(outputs=({'output_type': 'stream', 'text': 'Please chose a material.\\n', 'name': 'stdout'},))"
      ]
     },
     "metadata": {},
     "output_type": "display_data"
    }
   ],
   "source": [
    "import ipywidgets as widgets\n",
    "from ipywidgets import interact\n",
    "\n",
    "from energy_check import energy_check\n",
    "from conf_checker import conf_checker\n",
    "from out_checker import out_checker\n",
    "from energy_check import energy_check\n",
    "from baseline_energy import baseline_energy\n",
    "from magnetic_check import magnetic_check\n",
    "from visualization_energy_difference import visualization_energy_difference\n",
    "from visualization_lattice import visualization_lattice\n",
    "from lattice_check import lattice_check\n",
    "from visualization import visualization\n",
    "from show_structure import show_structure\n",
    "from magnetic_plot import magnetic_plot\n",
    "from voltage import voltage\n",
    "from voltage_visualization import voltage_visualization\n",
    "\n",
    "#output = widgets.Output()\n",
    "#plot_output = widgets.Output()\n",
    "#plot1_output = widgets.Output()\n",
    "\n",
    "def common_filtering(model, structure, li_concentration, functional_list,U_value,what,conf,visualize,figure,configuration,energy_baseline):\n",
    "  \n",
    "    output.clear_output()\n",
    "    #plot_output.clear_output()\n",
    "    #plot1_output.clear_output()\n",
    "    \n",
    "    if (model == 'None'):\n",
    "        common_filter = 'Please chose a material.'\n",
    "    elif (len(conf_checker(model,li_concentration,structure)) <= conf):\n",
    "        common_filter = \"This material in combination with this structure does not have this configuration. Try a lower number.\"\n",
    "    elif (model != 'Li2MnO3') & (structure == 'O1'):\n",
    "        common_filter = 'The O1-stacking is only an option for Li2MnO3.'\n",
    "    elif (what == 'Final Energy') & (model != 'None') & (len(conf_checker(model,li_concentration,structure)) > conf):\n",
    "        [header,energy] = energy_check(model,structure,li_concentration,functional_list,U_value,conf,configuration)\n",
    "        common_filter = tabulate(energy, headers=header, tablefmt=\"latex\",floatfmt=(\".1f\",\".2f\"))\n",
    "    elif (what == 'out - required accuracy') & (model != 'None') & (len(conf_checker(model,li_concentration,structure)) > conf):\n",
    "        common_filter = out_checker(model,li_concentration,structure,functional_list,U_value,conf,configuration)\n",
    "    elif (what == 'Magnetic moments') & (model != 'None') & (len(conf_checker(model,li_concentration,structure)) > conf):\n",
    "        [header,results] = magnetic_check(model,structure,li_concentration,functional_list,U_value,conf)\n",
    "        common_filter = tabulate(results, headers=header, tablefmt=\"latex\", floatfmt=\".2f\")\n",
    "    elif (what == 'lattice parameters') & (model != 'None') & (len(conf_checker(model,li_concentration,structure)) > conf):\n",
    "        [header,lattice_parameters_length] = lattice_check(model,structure,li_concentration,functional_list,U_value,conf)\n",
    "        common_filter = tabulate(lattice_parameters_length, headers=header, tablefmt=\"latex\", floatfmt=(\".1f\",\".5f\"))\n",
    "    elif (what == 'lattice angles') & (model != 'None') & (len(conf_checker(model,li_concentration,structure)) > conf):\n",
    "        [header,lattice_parameters_angles] = lattice_angles_check(model,structure,li_concentration,functional_list,U_value,conf)\n",
    "        common_filter = tabulate(lattice_parameters_angles, headers=header, tablefmt=\"latex\", floatfmt=(\".1f\",\".5f\"))\n",
    "    elif (what == 'voltage') & (model != 'None') & (len(conf_checker(model,li_concentration,structure)) > conf):\n",
    "        [header,result] = voltage(model,structure,li_concentration,functional_list,U_value,conf,configuration)\n",
    "        common_filter = tabulate(result, headers=header, tablefmt=\"latex\", floatfmt=(\".1f\",\".2f\"))\n",
    "    \n",
    "    with output:\n",
    "        if (what == 'out - required accuracy'):\n",
    "            display(common_filter)\n",
    "        else:\n",
    "            print(common_filter)\n",
    "            \n",
    "    with plot_output:\n",
    "        if (len(conf_checker(model,li_concentration,structure)) <= conf):\n",
    "            print(\"This material in combination with this structure does not have this configuration. Try a lower number.\")\n",
    "        elif (U_value == (0, 0.5, 1, 1.5, 2, 2.5, 3, 3.5, 3.9, 4, 4.5, 5, 5.5, 6)) & (functional_list == 'pbeU'):\n",
    "            print('Cannot visualize multiple files. Change the U-value setting.')\n",
    "        elif (model == 'None'):\n",
    "            print('Please chose a material.')\n",
    "        elif (visualize != True):\n",
    "            print('If you want to viualize a structure check the Visualize Structure checkbox.')\n",
    "        elif (visualize == True):\n",
    "            visualization(model,li_concentration,structure,functional_list,U_value,conf)\n",
    "              \n",
    "    with plot1_output: \n",
    "        if (model == 'None'):\n",
    "            print('Please chose a material.')\n",
    "        elif (len(conf_checker(model,li_concentration,structure)) <= conf):\n",
    "            print(\"This material in combination with this structure does not have this configuration. Try a lower number.\")\n",
    "        elif (figure != True):\n",
    "            print('If you want to viualize a structure check the Figures checkbox.')\n",
    "        elif (U_value != (0, 0.5, 1, 1.5, 2, 2.5, 3, 3.5, 3.9, 4, 4.5, 5, 5.5, 6)):\n",
    "            print('The figures are only interesting for all U-values.')\n",
    "        elif (what == 'voltage') & (figure == True) & (U_value != (0, 0.5, 1, 1.5, 2, 2.5, 3, 3.5, 3.9, 4, 4.5, 5, 5.5, 6)):\n",
    "            print('The figures are only interesting for all U-values.')\n",
    "        elif (what == 'lattice parameters') & (figure == True):\n",
    "            visualization_lattice(model,li_concentration,structure,functional_list,U_value,conf)\n",
    "        elif (what == 'lattice angles') & (figure == True):\n",
    "            visualization_lattice(model,li_concentration,structure,functional_list,U_value,conf)\n",
    "        elif (what == 'Final Energy') & (figure == True):\n",
    "            visualization_energy_difference(model,li_concentration,structure,functional_list,U_value,conf,configuration,energy_baseline)\n",
    "        elif (what == 'Magnetic moments') & (figure == True):\n",
    "            magnetic_plot(model,li_concentration,structure,functional_list,U_value,conf)\n",
    "        elif (what == 'voltage') & (figure == True) & (U_value == (0, 0.5, 1, 1.5, 2, 2.5, 3, 3.5, 3.9, 4, 4.5, 5, 5.5, 6)):\n",
    "            voltage_visualization(model,structure,li_concentration,functional_list,U_value,conf,configuration) \n",
    "            \n",
    "interact(common_filtering,         \n",
    "# All the defenitions of the dropdown menu's\n",
    "model = widgets.Dropdown(\n",
    "    options=[\"None\",\"Li2MnO3\", \"Li2IrO3\",\"Li2MnSnO3\"],\n",
    "    description='Material:',\n",
    "    disabled=False,\n",
    "),\n",
    "         \n",
    "structure = widgets.Dropdown(\n",
    "    options=['prim','conv','O1'],\n",
    "    description='Cell: (only for Li2MnO3)',\n",
    "    disabled=False,\n",
    "),\n",
    "\n",
    "li_concentration = widgets.Dropdown(\n",
    "    options=[\"0.5\",\"2\"],\n",
    "    description='Li conc:',\n",
    "    disabled=False,\n",
    "),\n",
    "\n",
    "functional_list = widgets.Dropdown(\n",
    "    options=[\"pbeU\", \"scan\" , \"hse\",(\"pbeU\", \"scan\"),(\"pbeU\", \"scan\" , \"hse\")],\n",
    "    description='Functional:',\n",
    "    disabled=False,\n",
    "),\n",
    "\n",
    "u_values = ((0, 0.5, 1, 1.5, 2, 2.5, 3, 3.5, 3.9, 4, 4.5, 5, 5.5, 6),0, 0.5, 1, 1.5, 2, 2.5, 3, 3.5, 3.9, 4, 4.5, 5, 5.5, 6),\n",
    "U_value = widgets.Dropdown(\n",
    "    options=u_values, \n",
    "    description='U-value: (only for pbeU)',\n",
    "    disabled=False,\n",
    "),\n",
    "\n",
    "what = widgets.Dropdown(\n",
    "    options= [\"Final Energy\", \"Magnetic moments\",\"lattice parameters\",\"lattice angles\",\"voltage\",\"out - required accuracy\"],\n",
    "    description='What?:',\n",
    "    disabled=False,\n",
    "),\n",
    "\n",
    "conf = widgets.Dropdown(\n",
    "    #options= conf_checker(models,li_concentrations,structures),\n",
    "    options = (0,1,2,3,4,5,6,7,8,9,10),\n",
    "    description='Conf:',\n",
    "    disabled=False,\n",
    "),\n",
    "\n",
    "energy_baseline = widgets.Dropdown(\n",
    "    options= [\"Discharged\", \"Absolute\",\"Minimum\"],\n",
    "    description='Baseline for Final Energy:',\n",
    "    disabled=False,\n",
    "),\n",
    "\n",
    "configuration = widgets.Checkbox(\n",
    "           description='Conf: All.',),\n",
    "\n",
    "visualize = widgets.Checkbox(\n",
    "           description='Unlock: Visualize structure.',),\n",
    "\n",
    "figure = widgets.Checkbox(\n",
    "           description='Unlock: Figures.',)\n",
    ")\n",
    "output"
   ]
  },
  {
   "cell_type": "code",
   "execution_count": 35,
   "metadata": {},
   "outputs": [
    {
     "data": {
      "application/vnd.jupyter.widget-view+json": {
       "model_id": "e13c002bffad4a7c925e2ab9d5016481",
       "version_major": 2,
       "version_minor": 0
      },
      "text/plain": [
       "interactive(children=(Dropdown(description='Material:', options=(10, 20), value=10), Output()), _dom_classes=(…"
      ]
     },
     "metadata": {},
     "output_type": "display_data"
    },
    {
     "data": {
      "text/plain": [
       "<function __main__.running(test)>"
      ]
     },
     "execution_count": 35,
     "metadata": {},
     "output_type": "execute_result"
    }
   ],
   "source": [
    "def running(test):\n",
    "    if test == 10:\n",
    "        result = testing(test) + 1\n",
    "    else:\n",
    "        result = tester(test)\n",
    "    return result  \n",
    "\n",
    "interact(running, test = widgets.Dropdown(\n",
    "    options=[10,20],\n",
    "    description='Material:',\n",
    "    disabled=False,\n",
    "))"
   ]
  },
  {
   "cell_type": "code",
   "execution_count": null,
   "metadata": {},
   "outputs": [],
   "source": [
    "# %load tester.py\n",
    "def tester(x):\n",
    "    result = x + 10\n",
    "    return result"
   ]
  },
  {
   "cell_type": "code",
   "execution_count": null,
   "metadata": {},
   "outputs": [],
   "source": []
  }
 ],
 "metadata": {
  "kernelspec": {
   "display_name": "Python 3",
   "language": "python",
   "name": "python3"
  },
  "language_info": {
   "codemirror_mode": {
    "name": "ipython",
    "version": 3
   },
   "file_extension": ".py",
   "mimetype": "text/x-python",
   "name": "python",
   "nbconvert_exporter": "python",
   "pygments_lexer": "ipython3",
   "version": "3.7.2"
  }
 },
 "nbformat": 4,
 "nbformat_minor": 2
}
