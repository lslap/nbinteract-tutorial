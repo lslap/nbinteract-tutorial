{
 "cells": [
  {
   "cell_type": "code",
   "execution_count": 2,
   "metadata": {},
   "outputs": [
    {
     "data": {
      "application/vnd.jupyter.widget-view+json": {
       "model_id": "5f0ce610a21148e583c874121e311279",
       "version_major": 2,
       "version_minor": 0
      },
      "text/plain": [
       "interactive(children=(IntSlider(value=10, description='x', max=30, min=-10), Output()), _dom_classes=('widget-…"
      ]
     },
     "metadata": {},
     "output_type": "display_data"
    }
   ],
   "source": [
    "from ipywidgets import interact\n",
    "\n",
    "def square(x):\n",
    "    return x * x\n",
    "\n",
    "interact(square, x=10);"
   ]
  },
  {
   "cell_type": "code",
   "execution_count": 12,
   "metadata": {},
   "outputs": [],
   "source": [
    "import ipywidgets as widgets\n",
    "\n",
    "# All the defenitions of the dropdown menu's\n",
    "dropdown_model = widgets.Dropdown(\n",
    "    options=[\"None\",\"Li2MnO3\", \"Li2IrO3\",\"Li2MnSnO3\"],\n",
    "    description='Material:',\n",
    "    disabled=False,\n",
    ")\n",
    "\n",
    "style = {'description_width': 'initial'}\n",
    "dropdown_structure = widgets.Dropdown(\n",
    "    options=['prim','conv','O1'],\n",
    "    description='Cell: (only for Li2MnO3)',\n",
    "    disabled=False,\n",
    "    style=style,\n",
    ")\n",
    "\n",
    "dropdown_li_concentration = widgets.Dropdown(\n",
    "    options=[\"0.5\",\"2\"],\n",
    "    description='Li conc:',\n",
    "    disabled=False,\n",
    ")\n",
    "\n",
    "dropdown_functional_list = widgets.Dropdown(\n",
    "    options=[\"pbeU\", \"scan\" , \"hse\",(\"pbeU\", \"scan\"),(\"pbeU\", \"scan\" , \"hse\")],\n",
    "    description='Functional:',\n",
    "    disabled=False,\n",
    ")\n",
    "\n",
    "u_values = ((0, 0.5, 1, 1.5, 2, 2.5, 3, 3.5, 3.9, 4, 4.5, 5, 5.5, 6),0, 0.5, 1, 1.5, 2, 2.5, 3, 3.5, 3.9, 4, 4.5, 5, 5.5, 6)\n",
    "dropdown_U_value = widgets.Dropdown(\n",
    "    options=u_values, \n",
    "    description='U-value: (only for pbeU)',\n",
    "    disabled=False,\n",
    "    style=style\n",
    ")\n",
    "\n",
    "dropdown_what = widgets.Dropdown(\n",
    "    options= [\"Final Energy\", \"Magnetic moments\",\"lattice parameters\",\"lattice angles\",\"voltage\",\"out - required accuracy\"],\n",
    "    description='What?:',\n",
    "    disabled=False,\n",
    ")\n",
    "\n",
    "dropdown_conf = widgets.Dropdown(\n",
    "    #options= conf_checker(models,li_concentrations,structures),\n",
    "    options = (0,1,2,3,4,5,6,7,8,9,10),\n",
    "    description='Conf:',\n",
    "    disabled=False,\n",
    ")\n",
    "\n",
    "dropdown_energy_baseline = widgets.Dropdown(\n",
    "    options= [\"Discharged\", \"Absolute\",\"Minimum\"],\n",
    "    description='Baseline for Final Energy:',\n",
    "    disabled=False,\n",
    "    style=style,\n",
    ")\n",
    "\n",
    "checkbox_configuration = widgets.Checkbox(\n",
    "           description='Conf: All.',)\n",
    "\n",
    "checkbox_visualize = widgets.Checkbox(\n",
    "           description='Unlock: Visualize structure.',)\n",
    "\n",
    "checkbox_figure = widgets.Checkbox(\n",
    "           description='Unlock: Figures.',)"
   ]
  },
  {
   "cell_type": "code",
   "execution_count": 31,
   "metadata": {},
   "outputs": [
    {
     "data": {
      "application/vnd.jupyter.widget-view+json": {
       "model_id": "80138c92bb214d029d0a3e47d28636cb",
       "version_major": 2,
       "version_minor": 0
      },
      "text/plain": [
       "VBox(children=(HBox(children=(VBox(children=(Dropdown(description='Material:', index=1, options=('None', 'Li2M…"
      ]
     },
     "metadata": {},
     "output_type": "display_data"
    }
   ],
   "source": [
    "output = widgets.Output()\n",
    "\n",
    "def common_filtering(model, structure, li_concentration, functional_list,U_value,what,conf,visualize,figure,configuration,energy_baseline):\n",
    "    output.clear_output()\n",
    "    if (model == 'None'):\n",
    "        common_filter = 'Please chose a material.'\n",
    "    else:\n",
    "        common_filter = 'Great choice'\n",
    "    with output:\n",
    "        print(common_filter)\n",
    "        \n",
    "def dropdown_model_eventhandler(change):\n",
    "    common_filtering(change.new)\n",
    "    \n",
    "\n",
    "dropdown_model.observe(dropdown_model_eventhandler, names='value')\n",
    "\n",
    "item_layout = widgets.Layout(margin='10px 10px 10px 0')\n",
    "\n",
    "left_box = widgets.VBox([dropdown_model,dropdown_li_concentration,dropdown_structure,dropdown_what],layout=item_layout)\n",
    "middle_box = widgets.VBox([dropdown_functional_list,dropdown_U_value,dropdown_conf,dropdown_energy_baseline],layout=item_layout)\n",
    "right_box = widgets.VBox([checkbox_configuration,checkbox_visualize,checkbox_figure],layout=item_layout)\n",
    "input_widgets = widgets.HBox([left_box,middle_box, right_box],layout=item_layout)\n",
    "\n",
    "tab = widgets.Tab([output],layout=item_layout)\n",
    "\n",
    "\n",
    "tab = widgets.Tab([output])\n",
    "tab.set_title(0, 'Output')\n",
    "tab.set_title(1, 'Visualize Structure')\n",
    "tab.set_title(2, 'Figures')\n",
    "\n",
    "#AppLayout(header='Header')\n",
    "dashboard = widgets.VBox([input_widgets, tab])\n",
    "display(dashboard)"
   ]
  },
  {
   "cell_type": "code",
   "execution_count": 38,
   "metadata": {},
   "outputs": [
    {
     "data": {
      "application/vnd.jupyter.widget-view+json": {
       "model_id": "f3fd88ae408a425da783e5116fdcccd8",
       "version_major": 2,
       "version_minor": 0
      },
      "text/plain": [
       "interactive(children=(Dropdown(description='Material:', options=('None', 'Li2MnO3', 'Li2IrO3', 'Li2MnSnO3'), v…"
      ]
     },
     "metadata": {},
     "output_type": "display_data"
    },
    {
     "data": {
      "application/vnd.jupyter.widget-view+json": {
       "model_id": "cf14c40489024441ae51ce07f61481c6",
       "version_major": 2,
       "version_minor": 0
      },
      "text/plain": [
       "Output(outputs=({'output_type': 'stream', 'text': 'Please chose a material.\\n', 'name': 'stdout'},))"
      ]
     },
     "metadata": {},
     "output_type": "display_data"
    }
   ],
   "source": [
    "interact(common_filtering, \n",
    "\n",
    "# All the defenitions of the dropdown menu's\n",
    "model = widgets.Dropdown(\n",
    "    options=[\"None\",\"Li2MnO3\", \"Li2IrO3\",\"Li2MnSnO3\"],\n",
    "    description='Material:',\n",
    "    disabled=False,\n",
    "),\n",
    "\n",
    "style = {'description_width': 'initial'},\n",
    "structure = widgets.Dropdown(\n",
    "    options=['prim','conv','O1'],\n",
    "    description='Cell: (only for Li2MnO3)',\n",
    "    disabled=False,\n",
    "    style=style,\n",
    "),\n",
    "\n",
    "li_concentration = widgets.Dropdown(\n",
    "    options=[\"0.5\",\"2\"],\n",
    "    description='Li conc:',\n",
    "    disabled=False,\n",
    "),\n",
    "\n",
    "functional_list = widgets.Dropdown(\n",
    "    options=[\"pbeU\", \"scan\" , \"hse\",(\"pbeU\", \"scan\"),(\"pbeU\", \"scan\" , \"hse\")],\n",
    "    description='Functional:',\n",
    "    disabled=False,\n",
    "),\n",
    "\n",
    "u_values = ((0, 0.5, 1, 1.5, 2, 2.5, 3, 3.5, 3.9, 4, 4.5, 5, 5.5, 6),0, 0.5, 1, 1.5, 2, 2.5, 3, 3.5, 3.9, 4, 4.5, 5, 5.5, 6),\n",
    "U_value = widgets.Dropdown(\n",
    "    options=u_values, \n",
    "    description='U-value: (only for pbeU)',\n",
    "    disabled=False,\n",
    "    style=style\n",
    "),\n",
    "\n",
    "what = widgets.Dropdown(\n",
    "    options= [\"Final Energy\", \"Magnetic moments\",\"lattice parameters\",\"lattice angles\",\"voltage\",\"out - required accuracy\"],\n",
    "    description='What?:',\n",
    "    disabled=False,\n",
    "),\n",
    "\n",
    "conf = widgets.Dropdown(\n",
    "    #options= conf_checker(models,li_concentrations,structures),\n",
    "    options = (0,1,2,3,4,5,6,7,8,9,10),\n",
    "    description='Conf:',\n",
    "    disabled=False,\n",
    "),\n",
    "\n",
    "energy_baseline = widgets.Dropdown(\n",
    "    options= [\"Discharged\", \"Absolute\",\"Minimum\"],\n",
    "    description='Baseline for Final Energy:',\n",
    "    disabled=False,\n",
    "    style=style,\n",
    "),\n",
    "\n",
    "configuration = widgets.Checkbox(\n",
    "           description='Conf: All.',),\n",
    "\n",
    "visualize = widgets.Checkbox(\n",
    "           description='Unlock: Visualize structure.',),\n",
    "\n",
    "figure = widgets.Checkbox(\n",
    "           description='Unlock: Figures.',)\n",
    ")\n",
    "output"
   ]
  },
  {
   "cell_type": "code",
   "execution_count": null,
   "metadata": {},
   "outputs": [],
   "source": []
  }
 ],
 "metadata": {
  "kernelspec": {
   "display_name": "Python 3",
   "language": "python",
   "name": "python3"
  },
  "language_info": {
   "codemirror_mode": {
    "name": "ipython",
    "version": 3
   },
   "file_extension": ".py",
   "mimetype": "text/x-python",
   "name": "python",
   "nbconvert_exporter": "python",
   "pygments_lexer": "ipython3",
   "version": "3.7.2"
  }
 },
 "nbformat": 4,
 "nbformat_minor": 2
}
